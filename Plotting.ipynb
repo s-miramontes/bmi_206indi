{
 "cells": [
  {
   "cell_type": "code",
   "execution_count": 1,
   "id": "52d7c36f",
   "metadata": {},
   "outputs": [],
   "source": [
    "from typing import Dict, List, Tuple\n",
    "import matplotlib.pyplot as plt \n",
    "import networkx as nx \n",
    "import numpy as np\n",
    "import pandas as pd \n",
    "import matplotlib\n",
    "\n",
    "from scipy import stats"
   ]
  },
  {
   "cell_type": "code",
   "execution_count": 2,
   "id": "e12b8c0d",
   "metadata": {},
   "outputs": [],
   "source": [
    "pneumoniae = pd.read_excel(\"../data/12859_2019_2897_MOESM2_ESM.xlsx\", \n",
    "                       sheet_name=3, index_col=0)\n",
    "\n",
    "# remove whitespace from pneumoniae\n",
    "pneumoniae.index = pneumoniae.index.str.strip()\n",
    "pneumoniae_nx = nx.from_numpy_matrix(np.array(pneumoniae))\n",
    "ess_rxn_pneu = pd.read_csv(\"essential_rxns_pneu.txt\",\n",
    "                          header=None)\n",
    "# restrict essential reactions to those found in adjacency matrix\n",
    "ess_rxn_pneu = pd.DataFrame(pneumoniae[pneumoniae.index.isin(ess_rxn_pneu[0])].index)"
   ]
  },
  {
   "cell_type": "markdown",
   "id": "5b493e0c",
   "metadata": {},
   "source": [
    "### Functions for plotting"
   ]
  },
  {
   "cell_type": "code",
   "execution_count": 3,
   "id": "9d137012",
   "metadata": {},
   "outputs": [],
   "source": [
    "def bridging_centrality(graph: nx.Graph) -> Dict:\n",
    "    \"\"\"\n",
    "    Compute (modified) bridging centrality as defined in methods \n",
    "    section.\n",
    "    \n",
    "    :param graph: networkx (directed) graph \n",
    "    :return: Dict mapping nodes to briding centrality \n",
    "    \"\"\"\n",
    "    degrees_all = dict(nx.degree(graph))\n",
    "    degree_in = dict(nx.DiGraph(graph).in_degree())\n",
    "    degree_out = dict(nx.DiGraph(graph).out_degree())\n",
    "    \n",
    "    between_centr = nx.betweenness_centrality(graph)\n",
    "    \n",
    "    bc = {} # map node to bridging centrality \n",
    "    for rxn in degrees_all:\n",
    "        if degree_in[rxn] == 0 or degree_out[rxn] == 0:\n",
    "            bc[rxn] = 0\n",
    "        else:\n",
    "            numerator = 1/degrees_all[rxn]\n",
    "            denominator = np.sum([1/degrees_all[x] for x in \n",
    "                                  graph.neighbors(rxn)])\n",
    "            bc[rxn] = (numerator / denominator)*between_centr[rxn]\n",
    "    return bc "
   ]
  },
  {
   "cell_type": "code",
   "execution_count": 4,
   "id": "34d71a82",
   "metadata": {},
   "outputs": [],
   "source": [
    "def prepare_graphing_data(metric: List, \n",
    "        essential: pd.DataFrame) -> List:\n",
    "    \"\"\"\n",
    "    Count share of essential/non-essential reactions in each bin, percent \n",
    "    essential within a bin.\n",
    "    \n",
    "    :param hist_bins: List of (rounded) graph statistic values. \n",
    "    :param essential: DataFrame of essential reactions.\n",
    "    :return: Essential reactions, nonessential reactions, % essential \n",
    "             within each bin \n",
    "    \"\"\"\n",
    "    # get essential reaction indices \n",
    "    ess_idx = np.where(pneumoniae.index.isin(essential[0]))[0].tolist()\n",
    "    \n",
    "    # count *all* reactions in each bin\n",
    "    # drop any inf's if there are any (an issue when we take log)\n",
    "    all_rxn_per_bin = np.unique([x for x in metric if x != -np.inf], return_counts=True)\n",
    "    \n",
    "    # count *essential* reactions in each bin (including bins with 0 ess!)\n",
    "    ess_only = np.array(metric)[ess_idx]\n",
    "    ess_rxn_per_bin = [(ess_only == x).sum() \n",
    "                       for x in all_rxn_per_bin[0]]\n",
    "\n",
    "    # get percent essential per bin \n",
    "    perc_ess_per_bin = [x/y for x,y in zip(ess_rxn_per_bin,\n",
    "                                           all_rxn_per_bin[1])]\n",
    "    # get count of non-essential per bin\n",
    "    non_ess_per_bin = [x-y for x,y in zip(all_rxn_per_bin[1], \n",
    "                                          ess_rxn_per_bin)]\n",
    "\n",
    "    return ess_rxn_per_bin, non_ess_per_bin, perc_ess_per_bin"
   ]
  },
  {
   "cell_type": "code",
   "execution_count": 5,
   "id": "8a10875c",
   "metadata": {},
   "outputs": [],
   "source": [
    "def construct_plot(ess: List, non_ess: List, perc_ess: List,\n",
    "                   x_axis: List, x_title: str, out_path: str) -> None:\n",
    "    \"\"\"\n",
    "    Generate the combined histogram and scatterplot from the corresponding data. \n",
    "    \n",
    "    :param ess: List of counts of essential reactions per bin. \n",
    "    :param non_ess: List of counts of non-essential reactions per bin. \n",
    "    :param perc_ess: List of percent of essential reactions per bin. \n",
    "    :param x_axis: List of x axis tick *labels* that match the paper directly. \n",
    "    :param x_title: x-axis title corresponding to graph metric. \n",
    "    :param out_path: Where to save figure. \n",
    "    \"\"\"\n",
    "    spacing = [x for x in range(len(x_axis))]\n",
    "    fig, ax1 = plt.subplots()\n",
    "    ax1.bar(spacing, ess, color=\"black\")\n",
    "    ax1.bar(spacing, non_ess, color=\"gray\", bottom=ess)\n",
    "    ax1.set_ylabel(\"Number of Reactions\")\n",
    "    plt.xticks(spacing, x_axis)\n",
    "    plt.xlabel(x_title)\n",
    "\n",
    "    ax2 = ax1.twinx()\n",
    "    ax2.set_ylabel(\"% Essential\")\n",
    "    ax2.scatter(spacing, perc_ess, color=\"black\")\n",
    "    # line of best fit \n",
    "    m, b = np.polyfit(spacing, perc_ess, 1) # still plotting line\n",
    "    ax2.plot(spacing, [(m*x) + b for x in spacing], color=\"black\")\n",
    "\n",
    "    # correlation\n",
    "    lr = stats.linregress(spacing, perc_ess)\n",
    "    plt.plot([], [], ' ', label = f\"r={round(np.corrcoef(perc_ess, spacing)[0,1],2)}, p-value = {round(lr.pvalue,4)}, r-squared={lr.rvalue**2:.6}\")\n",
    "    plt.legend(frameon=False, prop={'size': 12}, bbox_to_anchor=(1.05, 1.0), loc='upper right')\n",
    "    \n",
    "    plt.savefig(out_path)\n",
    "    plt.clf()"
   ]
  },
  {
   "cell_type": "markdown",
   "id": "1aa3a899",
   "metadata": {},
   "source": [
    "### Panel a: log(bridging centrality)"
   ]
  },
  {
   "cell_type": "code",
   "execution_count": 6,
   "id": "c075d318",
   "metadata": {
    "scrolled": true
   },
   "outputs": [
    {
     "name": "stderr",
     "output_type": "stream",
     "text": [
      "<ipython-input-6-71c17dd2bb9f>:2: RuntimeWarning: divide by zero encountered in log10\n",
      "  log10_bridge_centr = np.log10(list(bridge_centr.values()))\n"
     ]
    },
    {
     "data": {
      "text/plain": [
       "<Figure size 432x288 with 0 Axes>"
      ]
     },
     "metadata": {},
     "output_type": "display_data"
    }
   ],
   "source": [
    "bridge_centr = bridging_centrality(pneumoniae_nx)\n",
    "log10_bridge_centr = np.log10(list(bridge_centr.values()))\n",
    "ess, non_ess, perc_ess = prepare_graphing_data([round(x*2)/2 if x != -np.inf else -np.inf for x in log10_bridge_centr], ess_rxn_pneu)\n",
    "construct_plot(ess[:-1], non_ess[:-1], perc_ess[:-1], [x/2 for x in range(len(ess)-1)], r'$log_{10}$(Bridging Centrality)', \"panela_pval\")"
   ]
  },
  {
   "cell_type": "markdown",
   "id": "6601b886",
   "metadata": {},
   "source": [
    "### Panel b: log(betweenness centrality)"
   ]
  },
  {
   "cell_type": "code",
   "execution_count": 7,
   "id": "bd60a74a",
   "metadata": {},
   "outputs": [
    {
     "name": "stderr",
     "output_type": "stream",
     "text": [
      "<ipython-input-7-a34e3597f396>:2: RuntimeWarning: divide by zero encountered in log10\n",
      "  log10_between_centr = np.log10(between_centr)\n"
     ]
    },
    {
     "data": {
      "text/plain": [
       "<Figure size 432x288 with 0 Axes>"
      ]
     },
     "metadata": {},
     "output_type": "display_data"
    }
   ],
   "source": [
    "between_centr = list(nx.betweenness_centrality(pneumoniae_nx).values())\n",
    "log10_between_centr = np.log10(between_centr)\n",
    "\n",
    "## shift to the right by the minimum positive log10 value \n",
    "min_pos_log10bc = np.min([x for x in log10_between_centr if x != -np.inf])\n",
    "log10_between_centr = [x + np.abs(min_pos_log10bc) if x != -np.inf else -np.inf for x in log10_between_centr]\n",
    "##\n",
    "\n",
    "ess, non_ess, perc_ess = prepare_graphing_data([round(x*2)/2 if x != -np.inf else -np.inf for x in log10_between_centr], ess_rxn_pneu)\n",
    "construct_plot(ess, non_ess, perc_ess, [x/2 for x in range(len(ess))], r'$log_{10}$(Betweenness Centrality)', \"panelb_pval\")\n",
    "\n"
   ]
  },
  {
   "cell_type": "markdown",
   "id": "b1664ab2",
   "metadata": {},
   "source": [
    "### Panel c: clustering coefficient"
   ]
  },
  {
   "cell_type": "code",
   "execution_count": 8,
   "id": "5d15745f",
   "metadata": {},
   "outputs": [
    {
     "data": {
      "text/plain": [
       "<Figure size 432x288 with 0 Axes>"
      ]
     },
     "metadata": {},
     "output_type": "display_data"
    }
   ],
   "source": [
    "clust_coef = list(nx.clustering(pneumoniae_nx).values())\n",
    "ess, non_ess, perc_ess = prepare_graphing_data([max(0.1, round(x,1)) for x in clust_coef], ess_rxn_pneu)\n",
    "construct_plot(ess, non_ess, perc_ess, [(x+1)/10 for x in range(len(ess))], \"Clustering Coefficient\", \"panelc_pval\")"
   ]
  },
  {
   "cell_type": "markdown",
   "id": "4d2b570e",
   "metadata": {},
   "source": [
    "### Panel d: log(degree)"
   ]
  },
  {
   "cell_type": "code",
   "execution_count": 9,
   "id": "3a72a913",
   "metadata": {},
   "outputs": [
    {
     "data": {
      "text/plain": [
       "<Figure size 432x288 with 0 Axes>"
      ]
     },
     "metadata": {},
     "output_type": "display_data"
    }
   ],
   "source": [
    "degree = list(dict(nx.degree(pneumoniae_nx)).values())\n",
    "log10_degree = np.log10(degree)\n",
    "ess, non_ess, perc_ess = prepare_graphing_data([round(x*4)/4 for x in log10_degree], ess_rxn_pneu)\n",
    "construct_plot(ess, non_ess, perc_ess, [x/4 for x in range(len(ess))], r'$log_{10}$(Degree)', \"paneld_pval\")"
   ]
  },
  {
   "cell_type": "markdown",
   "id": "2c1c65a2",
   "metadata": {},
   "source": [
    "## Statistical Analysis\n",
    "1. Plot each of the histograms for centrality metrics for K.Pneumoniae\n",
    "    - You can determine statistical significance of correlation r-values where the null hypothesis is that the slope for each metric is zero, i.e. no correlation.\n",
    "2. **Conduct a correlation analysis**: Now that we have each of the p-values and r values for K.Pneumoniae, we proceed to determine whether the correlation coefficients between the histograms of K.Pneumoniae vs Ecoli are statistically significant.\n",
    "    - Can we obtain this via a z-test (two-tailed, since not equal to the r values claimed in the histogram network metrics of Ecoli)?\n",
    "        - Convert each r value in to a z score (this would allow for the z-scores to be compared and analyzed for statistical significance by determining the observed statistic).\n",
    "        - Of course one would have to to establish a level of significance or alpha level to properly assess significance.\n",
    "        - Since correlation coefficients are obtained for both organisms, we take note of the sample sizes (259 reactions in ecoli, and 2262 in pneumoniae) --> *is the sample size the number of essential reactions or all reactio*\n",
    "        - Once sample sizes are obtained, calculate z observed.\n",
    "        - Check to see whether the observed value is greater than +/- the critical value, which can be obtained from a z score table. \n",
    "        - Calculate p-value based on the obtained value in z table and multiplying it by 2 (since two tailed test).\n",
    "        "
   ]
  },
  {
   "cell_type": "markdown",
   "id": "236aea68",
   "metadata": {},
   "source": [
    "### Regression P-Values for K.Pneumoniae:\n",
    "- $H_0: r=0 $\n",
    "\n",
    "- $alpha = 0.05$\n",
    "\n",
    "- $H_{alt}: r != 0$ \n",
    "\n",
    "**Note**: the p-values for regression coefficient of K.Pneumoniae were obtained under the null hypothesis is that the slope is zero, using Wald Test with t-distribution of the test statistic. Also p-values will not be displayed in the plot but as subtext in the graphic to keep everything concise. Below I compile all obtained p-values for safekeeping."
   ]
  },
  {
   "cell_type": "code",
   "execution_count": 10,
   "id": "b933d54d",
   "metadata": {},
   "outputs": [],
   "source": [
    "# correlation p_values for K.Pneumoniae \n",
    "p_valuesKP = {\"Bridging Centrality\": 0.159, \"Betweenness Centrality\":0.0047,\n",
    "       \"Clustering Coefficient\":0.0383, \"Degree\":0.0687}\n",
    "\n",
    "# correlation r_values for K.Pneumoniae\n",
    "r_valuesKP = {\"Bridging Centrality\": 0.48, \"Betweenness Centrality\":0.73,\n",
    "       \"Clustering Coefficient\":-0.66, \"Degree\":0.0687}\n",
    "\n",
    "# correlation r_values for Ecoli (authors claim), and my null hypothesis.\n",
    "r_valuesEC = {\"Bridging Centrality\": 0.87, \"Betweenness Centrality\":0.82,\n",
    "        \"Clustering Coefficient\":-0.86, \"Degree\":0.21}"
   ]
  },
  {
   "cell_type": "markdown",
   "id": "f8786b96",
   "metadata": {},
   "source": [
    "### Z-test\n",
    "With a two-tailed z-test we can establish statistical significance among the different r coefficients between *K.Pneumoniae* and *Ecoli*.\n",
    "\n",
    "$H_0: r_{kpneumoniae} = r_{ecoli}$\n",
    "\n",
    "$H_{alt}: r_{kpneumoniae} \\neq r_{ecoli}$\n",
    "\n",
    "$alpha = 0.05$"
   ]
  },
  {
   "cell_type": "code",
   "execution_count": 11,
   "id": "f60ddd14",
   "metadata": {},
   "outputs": [],
   "source": [
    "# sample sizes (outputs obtained from FBA python notebook)\n",
    "ecoli_N = 2583\n",
    "kpneu_N = 2262"
   ]
  },
  {
   "cell_type": "markdown",
   "id": "8b15fe58",
   "metadata": {},
   "source": [
    "1. Convert each $r_{kpneumoniae}$ value to a z-score, then we can compare z-scores for statistical significance by determining the observed z, using the following:\n",
    "\n",
    "$$z_1 =\\frac{1}{2}ln(\\frac{1 + r_{kpne}}{1 - r_{kpneu}})$$\n",
    "\n",
    "$$z_2 = \\frac{1}{2}ln(\\frac{1 + r_{ecoli}}{1 - r_{ecoli}}) $$\n",
    "\n",
    "$$z_{observed} = \\frac{z_1 - z_2}{\\frac{1}{\\sqrt{N_{datapts}-3}}}$$\n"
   ]
  },
  {
   "cell_type": "code",
   "execution_count": 12,
   "id": "a91dd627",
   "metadata": {},
   "outputs": [],
   "source": [
    "# get z_1's and z_2's for either k pneumoniae or ecoli respectively, ignore negative signs \n",
    "z_scoresKP = [0.5*np.log((1 + r)/(1 - r)) for r in r_valuesKP.values()]\n",
    "z_scoresEC = [0.5*np.log((1 + r)/(1 - r)) for r in r_valuesEC.values()]\n",
    "std_n1n2 = 1/np.sqrt((10-3))\n",
    "\n",
    "z_observed = [(z_scoresKP[z] - z_scoresEC[z])/ std_n1n2 for z in range(len(z_scoresKP))]"
   ]
  },
  {
   "cell_type": "code",
   "execution_count": 13,
   "id": "4ce082ca",
   "metadata": {
    "scrolled": false
   },
   "outputs": [
    {
     "data": {
      "text/plain": [
       "([1.333079629696525,\n",
       "  1.156817464590315,\n",
       "  -1.2933446720489712,\n",
       "  0.21317134656485978],\n",
       " [0.5229842775913438,\n",
       "  0.9287273642467249,\n",
       "  -0.792813631870191,\n",
       "  0.06880838800161941],\n",
       " [-2.143310839919615,\n",
       "  -0.6034696820249079,\n",
       "  1.324280655781531,\n",
       "  -0.38194848688785643])"
      ]
     },
     "execution_count": 13,
     "metadata": {},
     "output_type": "execute_result"
    }
   ],
   "source": [
    "z_scoresEC, z_scoresKP, z_observed"
   ]
  },
  {
   "cell_type": "code",
   "execution_count": 14,
   "id": "e85199ff",
   "metadata": {
    "scrolled": true
   },
   "outputs": [],
   "source": [
    "indexes = [\"Ecoli r-value\", \"K.Pneumoniae r-value\", \"Ecoli z-value\", \"K.Pneumoniae z-value\", \"z-score\"]\n",
    "cols_ = r_valuesKP.keys()\n",
    "\n",
    "#find p-value for two-tailed test\n",
    "\n",
    "\n",
    "\n",
    "df_complete = pd.DataFrame(index = indexes, columns = cols_)\n",
    "df_complete.loc['Ecoli r-value'] = [i for i in r_valuesEC.values()]\n",
    "df_complete.loc['K.Pneumoniae r-value'] = [j for j in r_valuesKP.values()]\n",
    "df_complete.loc[\"Ecoli z-value\"] = [round(k,2) for k in z_scoresEC]\n",
    "df_complete.loc[\"K.Pneumoniae z-value\"] = [round(h,2) for h in z_scoresKP]\n",
    "df_complete.loc[\"z-score\"] = [round(i,2) for i in z_observed]\n",
    "df_complete.loc[\"p-vals\"] = [stats.norm.sf(abs(z))*2 for z in df_complete.loc[\"z-score\"]]"
   ]
  },
  {
   "cell_type": "code",
   "execution_count": 15,
   "id": "c924066c",
   "metadata": {},
   "outputs": [
    {
     "data": {
      "text/html": [
       "<div>\n",
       "<style scoped>\n",
       "    .dataframe tbody tr th:only-of-type {\n",
       "        vertical-align: middle;\n",
       "    }\n",
       "\n",
       "    .dataframe tbody tr th {\n",
       "        vertical-align: top;\n",
       "    }\n",
       "\n",
       "    .dataframe thead th {\n",
       "        text-align: right;\n",
       "    }\n",
       "</style>\n",
       "<table border=\"1\" class=\"dataframe\">\n",
       "  <thead>\n",
       "    <tr style=\"text-align: right;\">\n",
       "      <th></th>\n",
       "      <th>Bridging Centrality</th>\n",
       "      <th>Betweenness Centrality</th>\n",
       "      <th>Clustering Coefficient</th>\n",
       "      <th>Degree</th>\n",
       "    </tr>\n",
       "  </thead>\n",
       "  <tbody>\n",
       "    <tr>\n",
       "      <th>Ecoli r-value</th>\n",
       "      <td>0.87</td>\n",
       "      <td>0.82</td>\n",
       "      <td>-0.86</td>\n",
       "      <td>0.21</td>\n",
       "    </tr>\n",
       "    <tr>\n",
       "      <th>K.Pneumoniae r-value</th>\n",
       "      <td>0.48</td>\n",
       "      <td>0.73</td>\n",
       "      <td>-0.66</td>\n",
       "      <td>0.0687</td>\n",
       "    </tr>\n",
       "    <tr>\n",
       "      <th>Ecoli z-value</th>\n",
       "      <td>1.33</td>\n",
       "      <td>1.16</td>\n",
       "      <td>-1.29</td>\n",
       "      <td>0.21</td>\n",
       "    </tr>\n",
       "    <tr>\n",
       "      <th>K.Pneumoniae z-value</th>\n",
       "      <td>0.52</td>\n",
       "      <td>0.93</td>\n",
       "      <td>-0.79</td>\n",
       "      <td>0.07</td>\n",
       "    </tr>\n",
       "    <tr>\n",
       "      <th>z-score</th>\n",
       "      <td>-2.14</td>\n",
       "      <td>-0.6</td>\n",
       "      <td>1.32</td>\n",
       "      <td>-0.38</td>\n",
       "    </tr>\n",
       "    <tr>\n",
       "      <th>p-vals</th>\n",
       "      <td>0.032355</td>\n",
       "      <td>0.548506</td>\n",
       "      <td>0.186835</td>\n",
       "      <td>0.703945</td>\n",
       "    </tr>\n",
       "  </tbody>\n",
       "</table>\n",
       "</div>"
      ],
      "text/plain": [
       "                     Bridging Centrality Betweenness Centrality  \\\n",
       "Ecoli r-value                       0.87                   0.82   \n",
       "K.Pneumoniae r-value                0.48                   0.73   \n",
       "Ecoli z-value                       1.33                   1.16   \n",
       "K.Pneumoniae z-value                0.52                   0.93   \n",
       "z-score                            -2.14                   -0.6   \n",
       "p-vals                          0.032355               0.548506   \n",
       "\n",
       "                     Clustering Coefficient    Degree  \n",
       "Ecoli r-value                         -0.86      0.21  \n",
       "K.Pneumoniae r-value                  -0.66    0.0687  \n",
       "Ecoli z-value                         -1.29      0.21  \n",
       "K.Pneumoniae z-value                  -0.79      0.07  \n",
       "z-score                                1.32     -0.38  \n",
       "p-vals                             0.186835  0.703945  "
      ]
     },
     "execution_count": 15,
     "metadata": {},
     "output_type": "execute_result"
    }
   ],
   "source": [
    "df_complete"
   ]
  },
  {
   "cell_type": "code",
   "execution_count": null,
   "id": "21673c4e",
   "metadata": {},
   "outputs": [],
   "source": []
  },
  {
   "cell_type": "code",
   "execution_count": null,
   "id": "2fb6242c",
   "metadata": {},
   "outputs": [],
   "source": []
  },
  {
   "cell_type": "code",
   "execution_count": null,
   "id": "07eed82a",
   "metadata": {},
   "outputs": [],
   "source": []
  }
 ],
 "metadata": {
  "kernelspec": {
   "display_name": "Python 3",
   "language": "python",
   "name": "python3"
  },
  "language_info": {
   "codemirror_mode": {
    "name": "ipython",
    "version": 3
   },
   "file_extension": ".py",
   "mimetype": "text/x-python",
   "name": "python",
   "nbconvert_exporter": "python",
   "pygments_lexer": "ipython3",
   "version": "3.8.8"
  }
 },
 "nbformat": 4,
 "nbformat_minor": 5
}
